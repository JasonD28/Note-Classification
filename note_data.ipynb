{
 "cells": [
  {
   "cell_type": "code",
   "execution_count": 1,
   "metadata": {},
   "outputs": [],
   "source": [
    "import librosa\n",
    "import os\n",
    "\n",
    "import numpy as np\n",
    "import IPython\n",
    "import IPython.display as ipd\n",
    "import matplotlib.pyplot as plt\n",
    "import librosa.display\n",
    "\n",
    "from pyAudioAnalysis import ShortTermFeatures as aF\n",
    "from scipy.io import wavfile"
   ]
  },
  {
   "cell_type": "markdown",
   "metadata": {},
   "source": [
    "# Notes\n",
    "## Live Piano Data\n",
    "- Removed some files from the data because they were the wrong note\n",
    "    - A7 mf\n",
    "    - Ab7 mf\n",
    "    - B0 ff\n",
    "    - B7 mf\n",
    "    - Bb0 ff\n",
    "    - Bb7 mf\n",
    "    - C1 pp\n",
    "    - c8 mf\n",
    "    - G7 mf\n",
    "- Static interference is present in B5 ff (consider removing)\n",
    "- The ff files for higher notes (6/7s) tend to have a mix of other notes in the background\n",
    "    - Removed 0, 1, 7, and 8 notes due to excessive noise distortion at both ends of the note spectrum\n",
    "\n",
    "## Online MIDI Note Data\n",
    "- Converted filenames to b(flat) instead of #(sharp) to keep continuity with `Live Piano Data` filenames\n"
   ]
  },
  {
   "cell_type": "code",
   "execution_count": 2,
   "metadata": {},
   "outputs": [],
   "source": [
    "piano_dir = \"piano_files\\\\\"\n",
    "piano_midi_dir = \"piano_midi_files\\\\\"\n",
    "violin_dir = \"violin_files\\\\\"\n",
    "cello_dir = \"cello_files\\\\\"\n",
    "clarinet_dir = \"clarinet_files\\\\\"\n",
    "bass_clarinet_dir = \"bass_clarinet_files\\\\\"\n",
    "saxopohne_dir = \"sax_files\\\\\"\n",
    "trumpet_dir = \"trumpet_files\\\\\"\n",
    "\n",
    "data_dir = \"data\\\\\"\n",
    "single_file = \"data\\\\C5_ff.wav\""
   ]
  },
  {
   "cell_type": "code",
   "execution_count": 3,
   "metadata": {},
   "outputs": [],
   "source": [
    "instrument_to_dir = {\n",
    "    \"Piano\": piano_dir,\n",
    "    \"Violin\": violin_dir,\n",
    "    \"Cello\": cello_dir,\n",
    "    \"BbClarinet\": clarinet_dir,\n",
    "    \"BassClarinet\": bass_clarinet_dir,\n",
    "    \"AltoSax\": saxopohne_dir,\n",
    "    \"Trumpet\": trumpet_dir,\n",
    "}"
   ]
  },
  {
   "cell_type": "code",
   "execution_count": 4,
   "metadata": {},
   "outputs": [],
   "source": [
    "sharp_to_flat_dict = {\n",
    "    \"C#\": \"Db\",\n",
    "    \"D#\": \"Eb\",\n",
    "    \"F#\": \"Gb\",\n",
    "    \"G#\": \"Ab\",\n",
    "    \"A#\": \"Bb\",\n",
    "}\n",
    "\n",
    "flat_to_sharp_dict = {\n",
    "    \"Db\": \"C#\",\n",
    "    \"Eb\": \"D#\",\n",
    "    \"Gb\": \"F#\",\n",
    "    \"Ab\": \"G#\",\n",
    "    \"Bb\": \"A#\",\n",
    "}\n",
    "note_to_index = {\n",
    "    'A2': 0,\n",
    "    'A3': 1,\n",
    "    'A4': 2,\n",
    "    'A5': 3,\n",
    "    'A6': 4,\n",
    "    'Ab2': 5,\n",
    "    'Ab3': 6,\n",
    "    'Ab4': 7,\n",
    "    'Ab5': 8,\n",
    "    'Ab6': 9,\n",
    "    'B2': 10,\n",
    "    'B3': 11,\n",
    "    'B4': 12,\n",
    "    'B5': 13,\n",
    "    'B6': 14,\n",
    "    'Bb2': 15,\n",
    "    'Bb3': 16,\n",
    "    'Bb4': 17,\n",
    "    'Bb5': 18,\n",
    "    'Bb6': 19,\n",
    "    'C2': 20,\n",
    "    'C3': 21,\n",
    "    'C4': 22,\n",
    "    'C5': 23,\n",
    "    'C6': 24,\n",
    "    'D2': 25,\n",
    "    'D3': 26,\n",
    "    'D4': 27,\n",
    "    'D5': 28,\n",
    "    'D6': 29,\n",
    "    'Db2': 30,\n",
    "    'Db3': 31,\n",
    "    'Db4': 32,\n",
    "    'Db5': 33,\n",
    "    'Db6': 34,\n",
    "    'E2': 35,\n",
    "    'E3': 36,\n",
    "    'E4': 37,\n",
    "    'E5': 38,\n",
    "    'E6': 39,\n",
    "    'Eb2': 40,\n",
    "    'Eb3': 41,\n",
    "    'Eb4': 42,\n",
    "    'Eb5': 43,\n",
    "    'Eb6': 44,\n",
    "    'F2': 45,\n",
    "    'F3': 46,\n",
    "    'F4': 47,\n",
    "    'F5': 48,\n",
    "    'F6': 49,\n",
    "    'G2': 50,\n",
    "    'G3': 51,\n",
    "    'G4': 52,\n",
    "    'G5': 53,\n",
    "    'G6': 54,\n",
    "    'Gb2': 55,\n",
    "    'Gb3': 56,\n",
    "    'Gb4': 57,\n",
    "    'Gb5': 58,\n",
    "    'Gb6': 59,\n",
    "}"
   ]
  },
  {
   "cell_type": "markdown",
   "metadata": {},
   "source": [
    "*`note_to_index` will need to be updated if any new notes are supported<br>\n",
    "**consider adding `note_to_index` to a json file when model is needed for serving"
   ]
  },
  {
   "cell_type": "code",
   "execution_count": 5,
   "metadata": {},
   "outputs": [],
   "source": [
    "# Adapted from https://towardsdatascience.com/cnns-for-audio-classification-6244954665ab\n",
    "\n",
    "def padding(array, xx, yy):\n",
    "    \"\"\"\n",
    "    :param array: numpy array\n",
    "    :param xx: desired height\n",
    "    :param yy: desirex width\n",
    "    :return: padded array\n",
    "    \"\"\"\n",
    "    h = array.shape[0]\n",
    "    w = array.shape[1]\n",
    "    a = max((xx - h) // 2,0)\n",
    "    aa = max(0,xx - a - h)\n",
    "    b = max(0,(yy - w) // 2)\n",
    "    bb = max(yy - b - w,0)\n",
    "    \n",
    "    return np.pad(array, pad_width=((a, aa), (b, bb)), mode='symmetric')"
   ]
  },
  {
   "cell_type": "markdown",
   "metadata": {},
   "source": [
    "## Piano Audio Files"
   ]
  },
  {
   "cell_type": "code",
   "execution_count": 12,
   "metadata": {},
   "outputs": [],
   "source": [
    "for filename in os.listdir(piano_dir):\n",
    "    audio_path = piano_dir + filename\n",
    "    _, volume, note, _ = filename.split(\".\")\n",
    "\n",
    "    data, sr = librosa.load(audio_path)\n",
    "    # Split the data into 1 second segments\n",
    "    segment_size_s = 1\n",
    "    segemnt_size = segment_size_s * sr\n",
    "    segments = np.array([data[i:i + segemnt_size] for i in np.arange(0, len(data), segemnt_size)], dtype=object)\n",
    "    # Calculate the energy in each segment by computing the sum of the squares of samples\n",
    "    segment_energy = [(s**2).sum() / len(s) for s in segments]\n",
    "    max_energy_index = np.argmax(segment_energy)\n",
    "    # Only keep the start of the note (segment with the most energy) and 4 seconds after\n",
    "    keep_indexes = np.arange(max_energy_index, max_energy_index + 4)\n",
    "    kept_segments = segments[keep_indexes]\n",
    "    trim_data = np.concatenate(kept_segments)\n",
    "\n",
    "    wavfile.write(f\"data\\\\piano_{note}_{volume}.wav\", sr, trim_data)"
   ]
  },
  {
   "cell_type": "code",
   "execution_count": 13,
   "metadata": {},
   "outputs": [],
   "source": [
    "for filename in os.listdir(piano_midi_dir):\n",
    "    audio_path = piano_midi_dir + filename\n",
    "    note, _ = filename.split(\".\")\n",
    "    if len(note) > 2:\n",
    "        sharp_note = note[0].upper() + \"#\"\n",
    "        note = sharp_to_flat_dict[sharp_note] + note[2]\n",
    "    else:\n",
    "        note = note[0].upper() + note[1]\n",
    "\n",
    "    data, sr = librosa.load(audio_path)\n",
    "    \n",
    "    # There's no need to remove silence from the files since the recordings are short\n",
    "\n",
    "    wavfile.write(f\"data\\\\piano_{note}_midi.wav\", sr, data)"
   ]
  },
  {
   "cell_type": "markdown",
   "metadata": {},
   "source": [
    "## String Instrument Audio Files"
   ]
  },
  {
   "cell_type": "code",
   "execution_count": 14,
   "metadata": {},
   "outputs": [],
   "source": [
    "string_directories = list(os.listdir(cello_dir))\n",
    "string_directories.extend(list(os.listdir(violin_dir)))\n",
    "for filename in string_directories:\n",
    "    instrument, _, volume, sul, note, _, _ = filename.split(\".\")\n",
    "    audio_path = instrument_to_dir[instrument] + filename\n",
    "\n",
    "    data, sr = librosa.load(audio_path)\n",
    "    # Split the data into 1 second segments\n",
    "    segment_size_s = 1\n",
    "    segemnt_size = segment_size_s * sr\n",
    "    segments = np.array([data[i:i + segemnt_size] for i in np.arange(0, len(data), segemnt_size)], dtype=object)\n",
    "\n",
    "    # Trim the audio file if it is longer than 4 seconds\n",
    "    if len(segments) > 4:\n",
    "        # Calculate the energy in each segment by computing the sum of the squares of samples\n",
    "        segment_energy = [(s**2).sum() / len(s) for s in segments]\n",
    "        max_energy_index = np.argmax(segment_energy)\n",
    "        # Only keep the start of the note (segment with the most energy) and 4 seconds (or less, depending on audio length) after\n",
    "        seconds_after_note = min(len(segments[max_energy_index:])-1, 4)\n",
    "        keep_indexes = np.arange(max_energy_index, max_energy_index + seconds_after_note)\n",
    "        kept_segments = segments[keep_indexes]\n",
    "        data = np.concatenate(kept_segments)\n",
    "\n",
    "    wavfile.write(f\"data\\\\{instrument}_{note}_{volume}_{sul}.wav\", sr, data)"
   ]
  },
  {
   "cell_type": "markdown",
   "metadata": {},
   "source": [
    "## (Bass) Clarinet Audio Files"
   ]
  },
  {
   "cell_type": "code",
   "execution_count": 15,
   "metadata": {},
   "outputs": [],
   "source": [
    "clarinet_directories = list(os.listdir(clarinet_dir))\n",
    "clarinet_directories.extend(list(os.listdir(bass_clarinet_dir)))\n",
    "for filename in clarinet_directories:\n",
    "    instrument, volume, note, _, _ = filename.split(\".\")\n",
    "    audio_path = instrument_to_dir[instrument] + filename\n",
    "\n",
    "    data, sr = librosa.load(audio_path)\n",
    "    # Split the data into 1 second segments\n",
    "    segment_size_s = 1\n",
    "    segemnt_size = segment_size_s * sr\n",
    "    segments = np.array([data[i:i + segemnt_size] for i in np.arange(0, len(data), segemnt_size)], dtype=object)\n",
    "\n",
    "    # Trim the audio file if it is longer than 4 seconds\n",
    "    if len(segments) > 4:\n",
    "        # Calculate the energy in each segment by computing the sum of the squares of samples\n",
    "        segment_energy = [(s**2).sum() / len(s) for s in segments]\n",
    "        max_energy_index = np.argmax(segment_energy)\n",
    "        # Only keep the start of the note (segment with the most energy) and 4 seconds (or less, depending on audio length) after\n",
    "        seconds_after_note = min(len(segments[max_energy_index:])-1, 4)\n",
    "        keep_indexes = np.arange(max_energy_index, max_energy_index + seconds_after_note)\n",
    "        kept_segments = segments[keep_indexes]\n",
    "        data = np.concatenate(kept_segments)\n",
    "\n",
    "    wavfile.write(f\"data\\\\{instrument}_{note}_{volume}.wav\", sr, data)"
   ]
  },
  {
   "cell_type": "markdown",
   "metadata": {},
   "source": [
    "## Trumpet and Saxophone Audio Files (Non-Vibrato)"
   ]
  },
  {
   "cell_type": "code",
   "execution_count": 16,
   "metadata": {},
   "outputs": [],
   "source": [
    "non_vibrato_directories = list(os.listdir(trumpet_dir))\n",
    "non_vibrato_directories.extend(list(os.listdir(saxopohne_dir)))\n",
    "for filename in non_vibrato_directories:\n",
    "    instrument, _, volume, note, _, _ = filename.split(\".\")\n",
    "    audio_path = instrument_to_dir[instrument] + filename\n",
    "\n",
    "    data, sr = librosa.load(audio_path)\n",
    "    # Split the data into 1 second segments\n",
    "    segment_size_s = 1\n",
    "    segemnt_size = segment_size_s * sr\n",
    "    segments = np.array([data[i:i + segemnt_size] for i in np.arange(0, len(data), segemnt_size)], dtype=object)\n",
    "\n",
    "    # Trim the audio file if it is longer than 4 seconds\n",
    "    if len(segments) > 4:\n",
    "        # Calculate the energy in each segment by computing the sum of the squares of samples\n",
    "        segment_energy = [(s**2).sum() / len(s) for s in segments]\n",
    "        max_energy_index = np.argmax(segment_energy)\n",
    "        # Only keep the start of the note (segment with the most energy) and 4 seconds (or less, depending on audio length) after\n",
    "        seconds_after_note = min(len(segments[max_energy_index:])-1, 4)\n",
    "        keep_indexes = np.arange(max_energy_index, max_energy_index + seconds_after_note)\n",
    "        kept_segments = segments[keep_indexes]\n",
    "        data = np.concatenate(kept_segments)\n",
    "\n",
    "    wavfile.write(f\"data\\\\{instrument}_{note}_{volume}.wav\", sr, data)"
   ]
  },
  {
   "cell_type": "code",
   "execution_count": 8,
   "metadata": {},
   "outputs": [
    {
     "name": "stdout",
     "output_type": "stream",
     "text": [
      "(1, 10, 2, 3)\n"
     ]
    }
   ],
   "source": [
    "x = np.zeros((10, 2, 3))\n",
    "y = x[np.newaxis, ...]\n",
    "print(y.shape)"
   ]
  },
  {
   "cell_type": "code",
   "execution_count": 6,
   "metadata": {},
   "outputs": [
    {
     "name": "stdout",
     "output_type": "stream",
     "text": [
      "(557, 1025, 173, 3)\n",
      "(557,)\n"
     ]
    }
   ],
   "source": [
    "height = 1025\n",
    "width = 173\n",
    "fmin = librosa.note_to_hz(\"B1\")\n",
    "\n",
    "features = []\n",
    "labels = []\n",
    "\n",
    "for filename in os.listdir(data_dir):\n",
    "    file_path = data_dir + filename\n",
    "    note = filename.split(\"_\")[1]\n",
    "    labels.append(note_to_index[note])\n",
    "    y, sr = librosa.load(file_path)\n",
    "    chroma = librosa.cqt(y=y, sr=sr, fmin=fmin, n_bins=60)\n",
    "    fundamental_freq, _, _ = librosa.pyin(y, fmin=librosa.note_to_hz('B1'), fmax=librosa.note_to_hz('C7'))\n",
    "    fundamental_freq = fundamental_freq.reshape([1, fundamental_freq.shape[0]])[:, :173]\n",
    "    stft = librosa.stft(y)\n",
    "    chroma = padding(chroma, height, width)[:1025, :173]\n",
    "    fundamental_freq = padding(fundamental_freq, height, width)[:1025, :173]\n",
    "    stft = padding(stft, height, width)[:1025, :173]\n",
    "    image = np.dstack((chroma, fundamental_freq))\n",
    "    image = np.dstack((image, stft))\n",
    "    features.append(image[np.newaxis, ...])\n",
    "\n",
    "labels = np.array(labels)\n",
    "output = np.concatenate(features, axis=0)\n",
    "print(output.shape)\n",
    "print(labels.shape)\n",
    "np.save(\"data.npy\", output)\n",
    "np.save(\"labels.npy\", labels)\n"
   ]
  },
  {
   "cell_type": "code",
   "execution_count": 90,
   "metadata": {},
   "outputs": [
    {
     "name": "stderr",
     "output_type": "stream",
     "text": [
      "E:\\Downloads\\Anaconda\\lib\\site-packages\\librosa\\display.py:954: UserWarning: Trying to display complex-valued input. Showing magnitude instead.\n",
      "  warnings.warn(\n"
     ]
    },
    {
     "data": {
      "text/plain": [
       "[Text(0.5, 1.0, 'Constant Q Chromagram')]"
      ]
     },
     "execution_count": 90,
     "metadata": {},
     "output_type": "execute_result"
    },
    {
     "data": {
      "image/png": "[encoded data removed]",
      "text/plain": [
       "<Figure size 432x288 with 2 Axes>"
      ]
     },
     "metadata": {
      "needs_background": "light"
     },
     "output_type": "display_data"
    }
   ],
   "source": [
    "y, sr = librosa.load(single_file)\n",
    "fmin = librosa.note_to_hz(\"B1\")\n",
    "chroma = librosa.cqt(y=y, sr=sr, fmin=fmin, n_bins=60)\n",
    "fig, ax = plt.subplots()\n",
    "img = librosa.display.specshow(chroma, y_axis='cqt_note', x_axis='time', ax=ax, fmin=fmin)\n",
    "fig.colorbar(img, ax=ax)\n",
    "ax.set(title='Constant Q Chromagram')"
   ]
  },
  {
   "cell_type": "code",
   "execution_count": 91,
   "metadata": {},
   "outputs": [
    {
     "data": {
      "text/plain": [
       "<matplotlib.legend.Legend at 0x1e16eab20a0>"
      ]
     },
     "execution_count": 91,
     "metadata": {},
     "output_type": "execute_result"
    },
    {
     "data": {
      "image/png": "[encoded data removed]",
      "text/plain": [
       "<Figure size 432x288 with 2 Axes>"
      ]
     },
     "metadata": {
      "needs_background": "light"
     },
     "output_type": "display_data"
    }
   ],
   "source": [
    "y, sr = librosa.load(single_file)\n",
    "f0, _, _ = librosa.pyin(y, fmin=librosa.note_to_hz('B1'), fmax=librosa.note_to_hz('C7'))\n",
    "times = librosa.times_like(f0, sr)\n",
    "\n",
    "D = librosa.stft(y)\n",
    "fig, ax = plt.subplots()\n",
    "img = librosa.display.specshow(D, x_axis='time', y_axis='log', ax=ax)\n",
    "ax.set(title='pYIN fundamental frequency estimation')\n",
    "fig.colorbar(img, ax=ax, format=\"%+2.f dB\")\n",
    "ax.plot(times, f0, label='f0', color='cyan', linewidth=3)\n",
    "ax.legend(loc='upper right')"
   ]
  },
  {
   "cell_type": "code",
   "execution_count": null,
   "metadata": {},
   "outputs": [],
   "source": []
  }
 ],
 "metadata": {
  "interpreter": {
   "hash": "443f26d540b6f43d30f5d1cb7c2a06f8c2881272fe959514b3f333f79c6ef059"
  },
  "kernelspec": {
   "display_name": "Python 3",
   "language": "python",
   "name": "python3"
  },
  "language_info": {
   "codemirror_mode": {
    "name": "ipython",
    "version": 3
   },
   "file_extension": ".py",
   "mimetype": "text/x-python",
   "name": "python",
   "nbconvert_exporter": "python",
   "pygments_lexer": "ipython3",
   "version": "3.8.3"
  }
 },
 "nbformat": 4,
 "nbformat_minor": 4
}
